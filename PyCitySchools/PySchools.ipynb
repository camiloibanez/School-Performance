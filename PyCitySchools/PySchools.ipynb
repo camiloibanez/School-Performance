{
 "cells": [
  {
   "cell_type": "markdown",
   "metadata": {},
   "source": [
    "# School Data"
   ]
  },
  {
   "cell_type": "code",
   "execution_count": 137,
   "metadata": {},
   "outputs": [],
   "source": [
    "# import Pandas\n",
    "\n",
    "import pandas as pd\n",
    "from scipy.stats import linregress\n",
    "import matplotlib.pyplot as plt"
   ]
  },
  {
   "cell_type": "code",
   "execution_count": 55,
   "metadata": {},
   "outputs": [],
   "source": [
    "# Read in csvs\n",
    "file_path1 = \"Resources/schools_complete.csv\"\n",
    "file_path2 = \"Resources/students_complete.csv\"\n",
    "\n",
    "# Set csvs to dataframes\n",
    "schools_df = pd.read_csv(file_path1)\n",
    "students_df = pd.read_csv(file_path2)"
   ]
  },
  {
   "cell_type": "code",
   "execution_count": 56,
   "metadata": {},
   "outputs": [
    {
     "data": {
      "text/plain": [
       "Index(['School ID', 'school_name', 'type', 'size', 'budget'], dtype='object')"
      ]
     },
     "execution_count": 56,
     "metadata": {},
     "output_type": "execute_result"
    }
   ],
   "source": [
    "# List column names\n",
    "schools_df.columns"
   ]
  },
  {
   "cell_type": "code",
   "execution_count": 57,
   "metadata": {},
   "outputs": [
    {
     "data": {
      "text/plain": [
       "Index(['Student ID', 'student_name', 'gender', 'grade', 'school_name',\n",
       "       'reading_score', 'math_score'],\n",
       "      dtype='object')"
      ]
     },
     "execution_count": 57,
     "metadata": {},
     "output_type": "execute_result"
    }
   ],
   "source": [
    "# List column names\n",
    "students_df.columns"
   ]
  },
  {
   "cell_type": "code",
   "execution_count": 58,
   "metadata": {},
   "outputs": [],
   "source": [
    "# Calculate Summary Statistics for District\n",
    "\n",
    "Total_Schools = len(schools_df)\n",
    "Total_Students = len(students_df)\n",
    "Total_Budget = schools_df[\"budget\"].sum()\n",
    "Average_Math_Score = students_df[\"math_score\"].mean()\n",
    "Average_Reading_Score = students_df[\"reading_score\"].mean()\n",
    "Percent_Passing_Math = (students_df[\"math_score\"][students_df[\"math_score\"] >= 70].count() / Total_Students) * 100\n",
    "Percent_Passing_Reading = (students_df[\"reading_score\"][students_df[\"reading_score\"] >= 70].count() / Total_Students) * 100\n",
    "Overall_Passing_Rate = (Percent_Passing_Math + Percent_Passing_Reading) / 2"
   ]
  },
  {
   "cell_type": "code",
   "execution_count": 59,
   "metadata": {},
   "outputs": [],
   "source": [
    "# set Summary Statistics to a dataframe\n",
    "District_Summary_df = pd.DataFrame({\"Total Schools\": [Total_Schools],\n",
    "                                   \"Total Students\": [Total_Students],\n",
    "                                   \"Total Budget\": [Total_Budget],\n",
    "                                   \"Average Math Score\": [Average_Math_Score],\n",
    "                                   \"Average Reading Score\": [Average_Reading_Score],\n",
    "                                   \"% Passing Math\": [Percent_Passing_Math],\n",
    "                                   \"% Passing Reading\": [Percent_Passing_Reading],\n",
    "                                   \"Overall Passing Rate\": [Overall_Passing_Rate]})"
   ]
  },
  {
   "cell_type": "code",
   "execution_count": 60,
   "metadata": {},
   "outputs": [
    {
     "data": {
      "text/html": [
       "<div>\n",
       "<style scoped>\n",
       "    .dataframe tbody tr th:only-of-type {\n",
       "        vertical-align: middle;\n",
       "    }\n",
       "\n",
       "    .dataframe tbody tr th {\n",
       "        vertical-align: top;\n",
       "    }\n",
       "\n",
       "    .dataframe thead th {\n",
       "        text-align: right;\n",
       "    }\n",
       "</style>\n",
       "<table border=\"1\" class=\"dataframe\">\n",
       "  <thead>\n",
       "    <tr style=\"text-align: right;\">\n",
       "      <th></th>\n",
       "      <th>Total Schools</th>\n",
       "      <th>Total Students</th>\n",
       "      <th>Total Budget</th>\n",
       "      <th>Average Math Score</th>\n",
       "      <th>Average Reading Score</th>\n",
       "      <th>% Passing Math</th>\n",
       "      <th>% Passing Reading</th>\n",
       "      <th>Overall Passing Rate</th>\n",
       "    </tr>\n",
       "  </thead>\n",
       "  <tbody>\n",
       "    <tr>\n",
       "      <td>0</td>\n",
       "      <td>15</td>\n",
       "      <td>39,170</td>\n",
       "      <td>$24,649,428</td>\n",
       "      <td>78.985371</td>\n",
       "      <td>81.87784</td>\n",
       "      <td>74.980853</td>\n",
       "      <td>85.805463</td>\n",
       "      <td>80.393158</td>\n",
       "    </tr>\n",
       "  </tbody>\n",
       "</table>\n",
       "</div>"
      ],
      "text/plain": [
       "   Total Schools Total Students Total Budget  Average Math Score  \\\n",
       "0             15         39,170  $24,649,428           78.985371   \n",
       "\n",
       "   Average Reading Score  % Passing Math  % Passing Reading  \\\n",
       "0               81.87784       74.980853          85.805463   \n",
       "\n",
       "   Overall Passing Rate  \n",
       "0             80.393158  "
      ]
     },
     "execution_count": 60,
     "metadata": {},
     "output_type": "execute_result"
    }
   ],
   "source": [
    "# Add commas and dollar sign to students and Budget\n",
    "District_Summary_df[\"Total Students\"] = District_Summary_df[\"Total Students\"].map(\"{:,}\".format)\n",
    "District_Summary_df[\"Total Budget\"] = District_Summary_df[\"Total Budget\"].map(\"${:,}\".format)\n",
    "District_Summary_df"
   ]
  },
  {
   "cell_type": "code",
   "execution_count": 61,
   "metadata": {},
   "outputs": [],
   "source": [
    "# Make a copy of schools_df\n",
    "schools2_df = schools_df.copy()\n",
    "\n",
    "# Remove School ID column\n",
    "del schools2_df[\"School ID\"]\n",
    "\n",
    "# Rename columns\n",
    "schools2_df.rename(columns={'school_name':'School Name', 'type': 'School Type', 'size': 'Total Students',\n",
    "                                  'budget': 'Total School Budget'}, inplace=True)\n",
    "\n",
    "# Add per Student Budget column\n",
    "schools2_df[\"Per Student Budget\"] = schools2_df[\"Total School Budget\"] / schools2_df[\"Total Students\"]\n",
    "\n",
    "# Make a copy of students_df\n",
    "students2_df = students_df.copy()\n",
    "\n",
    "# Rename columns\n",
    "students2_df.rename(columns={'school_name': 'School Name'}, inplace=True)\n",
    "\n",
    "# Group by School Name\n",
    "students2_df = students2_df.groupby([\"School Name\"]).mean()\n",
    "\n",
    "# Remove Student ID column\n",
    "del students2_df[\"Student ID\"]\n",
    "\n",
    "# Rename columns\n",
    "students2_df.rename(columns={'math_score': 'Average Math Score',\n",
    "                             'reading_score': 'Average Reading Score'}, inplace=True)\n",
    "\n",
    "# Merge schools2_df and students2_df\n",
    "School_Summary_df = pd.merge(schools2_df, students2_df, on=\"School Name\")"
   ]
  },
  {
   "cell_type": "code",
   "execution_count": 62,
   "metadata": {},
   "outputs": [],
   "source": [
    "# Make a copy of students_df\n",
    "students3_df = students_df.copy()\n",
    "\n",
    "# Rename columns\n",
    "students3_df.rename(columns={\"school_name\": \"School Name\"}, inplace=True)\n",
    "\n",
    "# Calculate number of students passing math and reading\n",
    "Passing_math = students3_df[\"School Name\"][students3_df[\"math_score\"] >= 70].value_counts().rename_axis(\"School Name\").reset_index(name = \"Passingmath\")\n",
    "\n",
    "Passing_reading = students3_df[\"School Name\"][students3_df[\"reading_score\"] >= 70].value_counts().rename_axis(\"School Name\").reset_index(name = \"Passingreading\")\n",
    "\n",
    "# Merge students passing math into School_Summary_df\n",
    "School_Summary_df = pd.merge(School_Summary_df, Passing_math, on=\"School Name\")\n",
    "\n",
    "# Calculate the percentage of students passing math\n",
    "School_Summary_df[\"% Passing Math\"] = (School_Summary_df[\"Passingmath\"] / School_Summary_df[\"Total Students\"]) * 100\n",
    "\n",
    "\n",
    "# Merge students passing reading into School_Summary_df\n",
    "School_Summary_df = pd.merge(School_Summary_df, Passing_reading, on = \"School Name\")\n",
    "\n",
    "#Calculate the percentage of students passing reading\n",
    "School_Summary_df[\"% Passing Reading\"] = (School_Summary_df[\"Passingreading\"] / School_Summary_df[\"Total Students\"]) * 100\n",
    "\n",
    "# Remove the number of students passing math and the number of students passing reading columns\n",
    "School_Summary_df.drop(columns=[\"Passingmath\", \"Passingreading\"], inplace=True)\n",
    "\n",
    "\n",
    "# Calculate the average passing rate\n",
    "School_Summary_df[\"Overall Passing Rate\"] = (School_Summary_df[\"% Passing Math\"] + School_Summary_df[\"% Passing Reading\"]) / 2\n",
    "\n",
    "# Reorder the columns\n",
    "School_Summary_df = School_Summary_df.reindex(columns= [\"School Name\", \"School Type\", \"Total Students\",\n",
    "                                                        \"Total School Budget\", \"Per Student Budget\", \"Average Math Score\",\n",
    "                                                        \"Average Reading Score\", \"% Passing Math\", \"% Passing Reading\",\n",
    "                                                        \"Overall Passing Rate\"])\n",
    "# Set index to School Name\n",
    "School_Summary_df = School_Summary_df.set_index(\"School Name\")"
   ]
  },
  {
   "cell_type": "code",
   "execution_count": 72,
   "metadata": {},
   "outputs": [],
   "source": [
    "School_Summary_plot = School_Summary_df.copy()"
   ]
  },
  {
   "cell_type": "code",
   "execution_count": 10,
   "metadata": {},
   "outputs": [
    {
     "data": {
      "text/html": [
       "<div>\n",
       "<style scoped>\n",
       "    .dataframe tbody tr th:only-of-type {\n",
       "        vertical-align: middle;\n",
       "    }\n",
       "\n",
       "    .dataframe tbody tr th {\n",
       "        vertical-align: top;\n",
       "    }\n",
       "\n",
       "    .dataframe thead th {\n",
       "        text-align: right;\n",
       "    }\n",
       "</style>\n",
       "<table border=\"1\" class=\"dataframe\">\n",
       "  <thead>\n",
       "    <tr style=\"text-align: right;\">\n",
       "      <th></th>\n",
       "      <th>School Type</th>\n",
       "      <th>Total Students</th>\n",
       "      <th>Total School Budget</th>\n",
       "      <th>Per Student Budget</th>\n",
       "      <th>Average Math Score</th>\n",
       "      <th>Average Reading Score</th>\n",
       "      <th>% Passing Math</th>\n",
       "      <th>% Passing Reading</th>\n",
       "      <th>Overall Passing Rate</th>\n",
       "    </tr>\n",
       "    <tr>\n",
       "      <th>School Name</th>\n",
       "      <th></th>\n",
       "      <th></th>\n",
       "      <th></th>\n",
       "      <th></th>\n",
       "      <th></th>\n",
       "      <th></th>\n",
       "      <th></th>\n",
       "      <th></th>\n",
       "      <th></th>\n",
       "    </tr>\n",
       "  </thead>\n",
       "  <tbody>\n",
       "    <tr>\n",
       "      <td>Huang High School</td>\n",
       "      <td>District</td>\n",
       "      <td>2917</td>\n",
       "      <td>$1,910,635</td>\n",
       "      <td>$655.0</td>\n",
       "      <td>76.629414</td>\n",
       "      <td>81.182722</td>\n",
       "      <td>65.683922</td>\n",
       "      <td>81.316421</td>\n",
       "      <td>73.500171</td>\n",
       "    </tr>\n",
       "    <tr>\n",
       "      <td>Figueroa High School</td>\n",
       "      <td>District</td>\n",
       "      <td>2949</td>\n",
       "      <td>$1,884,411</td>\n",
       "      <td>$639.0</td>\n",
       "      <td>76.711767</td>\n",
       "      <td>81.158020</td>\n",
       "      <td>65.988471</td>\n",
       "      <td>80.739234</td>\n",
       "      <td>73.363852</td>\n",
       "    </tr>\n",
       "    <tr>\n",
       "      <td>Shelton High School</td>\n",
       "      <td>Charter</td>\n",
       "      <td>1761</td>\n",
       "      <td>$1,056,600</td>\n",
       "      <td>$600.0</td>\n",
       "      <td>83.359455</td>\n",
       "      <td>83.725724</td>\n",
       "      <td>93.867121</td>\n",
       "      <td>95.854628</td>\n",
       "      <td>94.860875</td>\n",
       "    </tr>\n",
       "    <tr>\n",
       "      <td>Hernandez High School</td>\n",
       "      <td>District</td>\n",
       "      <td>4635</td>\n",
       "      <td>$3,022,020</td>\n",
       "      <td>$652.0</td>\n",
       "      <td>77.289752</td>\n",
       "      <td>80.934412</td>\n",
       "      <td>66.752967</td>\n",
       "      <td>80.862999</td>\n",
       "      <td>73.807983</td>\n",
       "    </tr>\n",
       "    <tr>\n",
       "      <td>Griffin High School</td>\n",
       "      <td>Charter</td>\n",
       "      <td>1468</td>\n",
       "      <td>$917,500</td>\n",
       "      <td>$625.0</td>\n",
       "      <td>83.351499</td>\n",
       "      <td>83.816757</td>\n",
       "      <td>93.392371</td>\n",
       "      <td>97.138965</td>\n",
       "      <td>95.265668</td>\n",
       "    </tr>\n",
       "    <tr>\n",
       "      <td>Wilson High School</td>\n",
       "      <td>Charter</td>\n",
       "      <td>2283</td>\n",
       "      <td>$1,319,574</td>\n",
       "      <td>$578.0</td>\n",
       "      <td>83.274201</td>\n",
       "      <td>83.989488</td>\n",
       "      <td>93.867718</td>\n",
       "      <td>96.539641</td>\n",
       "      <td>95.203679</td>\n",
       "    </tr>\n",
       "    <tr>\n",
       "      <td>Cabrera High School</td>\n",
       "      <td>Charter</td>\n",
       "      <td>1858</td>\n",
       "      <td>$1,081,356</td>\n",
       "      <td>$582.0</td>\n",
       "      <td>83.061895</td>\n",
       "      <td>83.975780</td>\n",
       "      <td>94.133477</td>\n",
       "      <td>97.039828</td>\n",
       "      <td>95.586652</td>\n",
       "    </tr>\n",
       "    <tr>\n",
       "      <td>Bailey High School</td>\n",
       "      <td>District</td>\n",
       "      <td>4976</td>\n",
       "      <td>$3,124,928</td>\n",
       "      <td>$628.0</td>\n",
       "      <td>77.048432</td>\n",
       "      <td>81.033963</td>\n",
       "      <td>66.680064</td>\n",
       "      <td>81.933280</td>\n",
       "      <td>74.306672</td>\n",
       "    </tr>\n",
       "    <tr>\n",
       "      <td>Holden High School</td>\n",
       "      <td>Charter</td>\n",
       "      <td>427</td>\n",
       "      <td>$248,087</td>\n",
       "      <td>$581.0</td>\n",
       "      <td>83.803279</td>\n",
       "      <td>83.814988</td>\n",
       "      <td>92.505855</td>\n",
       "      <td>96.252927</td>\n",
       "      <td>94.379391</td>\n",
       "    </tr>\n",
       "    <tr>\n",
       "      <td>Pena High School</td>\n",
       "      <td>Charter</td>\n",
       "      <td>962</td>\n",
       "      <td>$585,858</td>\n",
       "      <td>$609.0</td>\n",
       "      <td>83.839917</td>\n",
       "      <td>84.044699</td>\n",
       "      <td>94.594595</td>\n",
       "      <td>95.945946</td>\n",
       "      <td>95.270270</td>\n",
       "    </tr>\n",
       "    <tr>\n",
       "      <td>Wright High School</td>\n",
       "      <td>Charter</td>\n",
       "      <td>1800</td>\n",
       "      <td>$1,049,400</td>\n",
       "      <td>$583.0</td>\n",
       "      <td>83.682222</td>\n",
       "      <td>83.955000</td>\n",
       "      <td>93.333333</td>\n",
       "      <td>96.611111</td>\n",
       "      <td>94.972222</td>\n",
       "    </tr>\n",
       "    <tr>\n",
       "      <td>Rodriguez High School</td>\n",
       "      <td>District</td>\n",
       "      <td>3999</td>\n",
       "      <td>$2,547,363</td>\n",
       "      <td>$637.0</td>\n",
       "      <td>76.842711</td>\n",
       "      <td>80.744686</td>\n",
       "      <td>66.366592</td>\n",
       "      <td>80.220055</td>\n",
       "      <td>73.293323</td>\n",
       "    </tr>\n",
       "    <tr>\n",
       "      <td>Johnson High School</td>\n",
       "      <td>District</td>\n",
       "      <td>4761</td>\n",
       "      <td>$3,094,650</td>\n",
       "      <td>$650.0</td>\n",
       "      <td>77.072464</td>\n",
       "      <td>80.966394</td>\n",
       "      <td>66.057551</td>\n",
       "      <td>81.222432</td>\n",
       "      <td>73.639992</td>\n",
       "    </tr>\n",
       "    <tr>\n",
       "      <td>Ford High School</td>\n",
       "      <td>District</td>\n",
       "      <td>2739</td>\n",
       "      <td>$1,763,916</td>\n",
       "      <td>$644.0</td>\n",
       "      <td>77.102592</td>\n",
       "      <td>80.746258</td>\n",
       "      <td>68.309602</td>\n",
       "      <td>79.299014</td>\n",
       "      <td>73.804308</td>\n",
       "    </tr>\n",
       "    <tr>\n",
       "      <td>Thomas High School</td>\n",
       "      <td>Charter</td>\n",
       "      <td>1635</td>\n",
       "      <td>$1,043,130</td>\n",
       "      <td>$638.0</td>\n",
       "      <td>83.418349</td>\n",
       "      <td>83.848930</td>\n",
       "      <td>93.272171</td>\n",
       "      <td>97.308869</td>\n",
       "      <td>95.290520</td>\n",
       "    </tr>\n",
       "  </tbody>\n",
       "</table>\n",
       "</div>"
      ],
      "text/plain": [
       "                      School Type  Total Students Total School Budget  \\\n",
       "School Name                                                             \n",
       "Huang High School        District            2917          $1,910,635   \n",
       "Figueroa High School     District            2949          $1,884,411   \n",
       "Shelton High School       Charter            1761          $1,056,600   \n",
       "Hernandez High School    District            4635          $3,022,020   \n",
       "Griffin High School       Charter            1468            $917,500   \n",
       "Wilson High School        Charter            2283          $1,319,574   \n",
       "Cabrera High School       Charter            1858          $1,081,356   \n",
       "Bailey High School       District            4976          $3,124,928   \n",
       "Holden High School        Charter             427            $248,087   \n",
       "Pena High School          Charter             962            $585,858   \n",
       "Wright High School        Charter            1800          $1,049,400   \n",
       "Rodriguez High School    District            3999          $2,547,363   \n",
       "Johnson High School      District            4761          $3,094,650   \n",
       "Ford High School         District            2739          $1,763,916   \n",
       "Thomas High School        Charter            1635          $1,043,130   \n",
       "\n",
       "                      Per Student Budget  Average Math Score  \\\n",
       "School Name                                                    \n",
       "Huang High School                 $655.0           76.629414   \n",
       "Figueroa High School              $639.0           76.711767   \n",
       "Shelton High School               $600.0           83.359455   \n",
       "Hernandez High School             $652.0           77.289752   \n",
       "Griffin High School               $625.0           83.351499   \n",
       "Wilson High School                $578.0           83.274201   \n",
       "Cabrera High School               $582.0           83.061895   \n",
       "Bailey High School                $628.0           77.048432   \n",
       "Holden High School                $581.0           83.803279   \n",
       "Pena High School                  $609.0           83.839917   \n",
       "Wright High School                $583.0           83.682222   \n",
       "Rodriguez High School             $637.0           76.842711   \n",
       "Johnson High School               $650.0           77.072464   \n",
       "Ford High School                  $644.0           77.102592   \n",
       "Thomas High School                $638.0           83.418349   \n",
       "\n",
       "                       Average Reading Score  % Passing Math  \\\n",
       "School Name                                                    \n",
       "Huang High School                  81.182722       65.683922   \n",
       "Figueroa High School               81.158020       65.988471   \n",
       "Shelton High School                83.725724       93.867121   \n",
       "Hernandez High School              80.934412       66.752967   \n",
       "Griffin High School                83.816757       93.392371   \n",
       "Wilson High School                 83.989488       93.867718   \n",
       "Cabrera High School                83.975780       94.133477   \n",
       "Bailey High School                 81.033963       66.680064   \n",
       "Holden High School                 83.814988       92.505855   \n",
       "Pena High School                   84.044699       94.594595   \n",
       "Wright High School                 83.955000       93.333333   \n",
       "Rodriguez High School              80.744686       66.366592   \n",
       "Johnson High School                80.966394       66.057551   \n",
       "Ford High School                   80.746258       68.309602   \n",
       "Thomas High School                 83.848930       93.272171   \n",
       "\n",
       "                       % Passing Reading  Overall Passing Rate  \n",
       "School Name                                                     \n",
       "Huang High School              81.316421             73.500171  \n",
       "Figueroa High School           80.739234             73.363852  \n",
       "Shelton High School            95.854628             94.860875  \n",
       "Hernandez High School          80.862999             73.807983  \n",
       "Griffin High School            97.138965             95.265668  \n",
       "Wilson High School             96.539641             95.203679  \n",
       "Cabrera High School            97.039828             95.586652  \n",
       "Bailey High School             81.933280             74.306672  \n",
       "Holden High School             96.252927             94.379391  \n",
       "Pena High School               95.945946             95.270270  \n",
       "Wright High School             96.611111             94.972222  \n",
       "Rodriguez High School          80.220055             73.293323  \n",
       "Johnson High School            81.222432             73.639992  \n",
       "Ford High School               79.299014             73.804308  \n",
       "Thomas High School             97.308869             95.290520  "
      ]
     },
     "execution_count": 10,
     "metadata": {},
     "output_type": "execute_result"
    }
   ],
   "source": [
    "# Add commas and dollar sign to Total Budget and Per Student Budget\n",
    "School_Summary_df[\"Total School Budget\"] = School_Summary_df[\"Total School Budget\"].map(\"${:,}\".format)\n",
    "School_Summary_df[\"Per Student Budget\"] = School_Summary_df[\"Per Student Budget\"].map(\"${:,}\".format)\n",
    "School_Summary_df"
   ]
  },
  {
   "cell_type": "code",
   "execution_count": 11,
   "metadata": {},
   "outputs": [
    {
     "data": {
      "text/html": [
       "<div>\n",
       "<style scoped>\n",
       "    .dataframe tbody tr th:only-of-type {\n",
       "        vertical-align: middle;\n",
       "    }\n",
       "\n",
       "    .dataframe tbody tr th {\n",
       "        vertical-align: top;\n",
       "    }\n",
       "\n",
       "    .dataframe thead th {\n",
       "        text-align: right;\n",
       "    }\n",
       "</style>\n",
       "<table border=\"1\" class=\"dataframe\">\n",
       "  <thead>\n",
       "    <tr style=\"text-align: right;\">\n",
       "      <th></th>\n",
       "      <th>School Type</th>\n",
       "      <th>Total Students</th>\n",
       "      <th>Total School Budget</th>\n",
       "      <th>Per Student Budget</th>\n",
       "      <th>Average Math Score</th>\n",
       "      <th>Average Reading Score</th>\n",
       "      <th>% Passing Math</th>\n",
       "      <th>% Passing Reading</th>\n",
       "      <th>Overall Passing Rate</th>\n",
       "    </tr>\n",
       "    <tr>\n",
       "      <th>School Name</th>\n",
       "      <th></th>\n",
       "      <th></th>\n",
       "      <th></th>\n",
       "      <th></th>\n",
       "      <th></th>\n",
       "      <th></th>\n",
       "      <th></th>\n",
       "      <th></th>\n",
       "      <th></th>\n",
       "    </tr>\n",
       "  </thead>\n",
       "  <tbody>\n",
       "    <tr>\n",
       "      <td>Cabrera High School</td>\n",
       "      <td>Charter</td>\n",
       "      <td>1858</td>\n",
       "      <td>$1,081,356</td>\n",
       "      <td>$582.0</td>\n",
       "      <td>83.061895</td>\n",
       "      <td>83.975780</td>\n",
       "      <td>94.133477</td>\n",
       "      <td>97.039828</td>\n",
       "      <td>95.586652</td>\n",
       "    </tr>\n",
       "    <tr>\n",
       "      <td>Thomas High School</td>\n",
       "      <td>Charter</td>\n",
       "      <td>1635</td>\n",
       "      <td>$1,043,130</td>\n",
       "      <td>$638.0</td>\n",
       "      <td>83.418349</td>\n",
       "      <td>83.848930</td>\n",
       "      <td>93.272171</td>\n",
       "      <td>97.308869</td>\n",
       "      <td>95.290520</td>\n",
       "    </tr>\n",
       "    <tr>\n",
       "      <td>Pena High School</td>\n",
       "      <td>Charter</td>\n",
       "      <td>962</td>\n",
       "      <td>$585,858</td>\n",
       "      <td>$609.0</td>\n",
       "      <td>83.839917</td>\n",
       "      <td>84.044699</td>\n",
       "      <td>94.594595</td>\n",
       "      <td>95.945946</td>\n",
       "      <td>95.270270</td>\n",
       "    </tr>\n",
       "    <tr>\n",
       "      <td>Griffin High School</td>\n",
       "      <td>Charter</td>\n",
       "      <td>1468</td>\n",
       "      <td>$917,500</td>\n",
       "      <td>$625.0</td>\n",
       "      <td>83.351499</td>\n",
       "      <td>83.816757</td>\n",
       "      <td>93.392371</td>\n",
       "      <td>97.138965</td>\n",
       "      <td>95.265668</td>\n",
       "    </tr>\n",
       "    <tr>\n",
       "      <td>Wilson High School</td>\n",
       "      <td>Charter</td>\n",
       "      <td>2283</td>\n",
       "      <td>$1,319,574</td>\n",
       "      <td>$578.0</td>\n",
       "      <td>83.274201</td>\n",
       "      <td>83.989488</td>\n",
       "      <td>93.867718</td>\n",
       "      <td>96.539641</td>\n",
       "      <td>95.203679</td>\n",
       "    </tr>\n",
       "  </tbody>\n",
       "</table>\n",
       "</div>"
      ],
      "text/plain": [
       "                    School Type  Total Students Total School Budget  \\\n",
       "School Name                                                           \n",
       "Cabrera High School     Charter            1858          $1,081,356   \n",
       "Thomas High School      Charter            1635          $1,043,130   \n",
       "Pena High School        Charter             962            $585,858   \n",
       "Griffin High School     Charter            1468            $917,500   \n",
       "Wilson High School      Charter            2283          $1,319,574   \n",
       "\n",
       "                    Per Student Budget  Average Math Score  \\\n",
       "School Name                                                  \n",
       "Cabrera High School             $582.0           83.061895   \n",
       "Thomas High School              $638.0           83.418349   \n",
       "Pena High School                $609.0           83.839917   \n",
       "Griffin High School             $625.0           83.351499   \n",
       "Wilson High School              $578.0           83.274201   \n",
       "\n",
       "                     Average Reading Score  % Passing Math  % Passing Reading  \\\n",
       "School Name                                                                     \n",
       "Cabrera High School              83.975780       94.133477          97.039828   \n",
       "Thomas High School               83.848930       93.272171          97.308869   \n",
       "Pena High School                 84.044699       94.594595          95.945946   \n",
       "Griffin High School              83.816757       93.392371          97.138965   \n",
       "Wilson High School               83.989488       93.867718          96.539641   \n",
       "\n",
       "                     Overall Passing Rate  \n",
       "School Name                                \n",
       "Cabrera High School             95.586652  \n",
       "Thomas High School              95.290520  \n",
       "Pena High School                95.270270  \n",
       "Griffin High School             95.265668  \n",
       "Wilson High School              95.203679  "
      ]
     },
     "execution_count": 11,
     "metadata": {},
     "output_type": "execute_result"
    }
   ],
   "source": [
    "# List top 5 performing schools descending\n",
    "Top_Performing_Schools_df = School_Summary_df.sort_values(\"Overall Passing Rate\", ascending=False)\n",
    "Top_Performing_Schools_df.iloc[0:5,:]"
   ]
  },
  {
   "cell_type": "code",
   "execution_count": 12,
   "metadata": {},
   "outputs": [
    {
     "data": {
      "text/html": [
       "<div>\n",
       "<style scoped>\n",
       "    .dataframe tbody tr th:only-of-type {\n",
       "        vertical-align: middle;\n",
       "    }\n",
       "\n",
       "    .dataframe tbody tr th {\n",
       "        vertical-align: top;\n",
       "    }\n",
       "\n",
       "    .dataframe thead th {\n",
       "        text-align: right;\n",
       "    }\n",
       "</style>\n",
       "<table border=\"1\" class=\"dataframe\">\n",
       "  <thead>\n",
       "    <tr style=\"text-align: right;\">\n",
       "      <th></th>\n",
       "      <th>School Type</th>\n",
       "      <th>Total Students</th>\n",
       "      <th>Total School Budget</th>\n",
       "      <th>Per Student Budget</th>\n",
       "      <th>Average Math Score</th>\n",
       "      <th>Average Reading Score</th>\n",
       "      <th>% Passing Math</th>\n",
       "      <th>% Passing Reading</th>\n",
       "      <th>Overall Passing Rate</th>\n",
       "    </tr>\n",
       "    <tr>\n",
       "      <th>School Name</th>\n",
       "      <th></th>\n",
       "      <th></th>\n",
       "      <th></th>\n",
       "      <th></th>\n",
       "      <th></th>\n",
       "      <th></th>\n",
       "      <th></th>\n",
       "      <th></th>\n",
       "      <th></th>\n",
       "    </tr>\n",
       "  </thead>\n",
       "  <tbody>\n",
       "    <tr>\n",
       "      <td>Rodriguez High School</td>\n",
       "      <td>District</td>\n",
       "      <td>3999</td>\n",
       "      <td>$2,547,363</td>\n",
       "      <td>$637.0</td>\n",
       "      <td>76.842711</td>\n",
       "      <td>80.744686</td>\n",
       "      <td>66.366592</td>\n",
       "      <td>80.220055</td>\n",
       "      <td>73.293323</td>\n",
       "    </tr>\n",
       "    <tr>\n",
       "      <td>Figueroa High School</td>\n",
       "      <td>District</td>\n",
       "      <td>2949</td>\n",
       "      <td>$1,884,411</td>\n",
       "      <td>$639.0</td>\n",
       "      <td>76.711767</td>\n",
       "      <td>81.158020</td>\n",
       "      <td>65.988471</td>\n",
       "      <td>80.739234</td>\n",
       "      <td>73.363852</td>\n",
       "    </tr>\n",
       "    <tr>\n",
       "      <td>Huang High School</td>\n",
       "      <td>District</td>\n",
       "      <td>2917</td>\n",
       "      <td>$1,910,635</td>\n",
       "      <td>$655.0</td>\n",
       "      <td>76.629414</td>\n",
       "      <td>81.182722</td>\n",
       "      <td>65.683922</td>\n",
       "      <td>81.316421</td>\n",
       "      <td>73.500171</td>\n",
       "    </tr>\n",
       "    <tr>\n",
       "      <td>Johnson High School</td>\n",
       "      <td>District</td>\n",
       "      <td>4761</td>\n",
       "      <td>$3,094,650</td>\n",
       "      <td>$650.0</td>\n",
       "      <td>77.072464</td>\n",
       "      <td>80.966394</td>\n",
       "      <td>66.057551</td>\n",
       "      <td>81.222432</td>\n",
       "      <td>73.639992</td>\n",
       "    </tr>\n",
       "    <tr>\n",
       "      <td>Ford High School</td>\n",
       "      <td>District</td>\n",
       "      <td>2739</td>\n",
       "      <td>$1,763,916</td>\n",
       "      <td>$644.0</td>\n",
       "      <td>77.102592</td>\n",
       "      <td>80.746258</td>\n",
       "      <td>68.309602</td>\n",
       "      <td>79.299014</td>\n",
       "      <td>73.804308</td>\n",
       "    </tr>\n",
       "  </tbody>\n",
       "</table>\n",
       "</div>"
      ],
      "text/plain": [
       "                      School Type  Total Students Total School Budget  \\\n",
       "School Name                                                             \n",
       "Rodriguez High School    District            3999          $2,547,363   \n",
       "Figueroa High School     District            2949          $1,884,411   \n",
       "Huang High School        District            2917          $1,910,635   \n",
       "Johnson High School      District            4761          $3,094,650   \n",
       "Ford High School         District            2739          $1,763,916   \n",
       "\n",
       "                      Per Student Budget  Average Math Score  \\\n",
       "School Name                                                    \n",
       "Rodriguez High School             $637.0           76.842711   \n",
       "Figueroa High School              $639.0           76.711767   \n",
       "Huang High School                 $655.0           76.629414   \n",
       "Johnson High School               $650.0           77.072464   \n",
       "Ford High School                  $644.0           77.102592   \n",
       "\n",
       "                       Average Reading Score  % Passing Math  \\\n",
       "School Name                                                    \n",
       "Rodriguez High School              80.744686       66.366592   \n",
       "Figueroa High School               81.158020       65.988471   \n",
       "Huang High School                  81.182722       65.683922   \n",
       "Johnson High School                80.966394       66.057551   \n",
       "Ford High School                   80.746258       68.309602   \n",
       "\n",
       "                       % Passing Reading  Overall Passing Rate  \n",
       "School Name                                                     \n",
       "Rodriguez High School          80.220055             73.293323  \n",
       "Figueroa High School           80.739234             73.363852  \n",
       "Huang High School              81.316421             73.500171  \n",
       "Johnson High School            81.222432             73.639992  \n",
       "Ford High School               79.299014             73.804308  "
      ]
     },
     "execution_count": 12,
     "metadata": {},
     "output_type": "execute_result"
    }
   ],
   "source": [
    "# List bottom 5 performing schools ascending\n",
    "Bottom_Performing_Schools_df = School_Summary_df.sort_values(\"Overall Passing Rate\", ascending=True)\n",
    "Bottom_Performing_Schools_df.iloc[0:5,:]"
   ]
  },
  {
   "cell_type": "code",
   "execution_count": 118,
   "metadata": {},
   "outputs": [
    {
     "data": {
      "text/plain": [
       "<matplotlib.axes._subplots.AxesSubplot at 0x2051a835648>"
      ]
     },
     "execution_count": 118,
     "metadata": {},
     "output_type": "execute_result"
    },
    {
     "data": {
      "image/png": "[encoded data removed]",
      "text/plain": [
       "<Figure size 432x288 with 1 Axes>"
      ]
     },
     "metadata": {
      "needs_background": "light"
     },
     "output_type": "display_data"
    },
    {
     "data": {
      "image/png": "[encoded data removed]",
      "text/plain": [
       "<Figure size 432x288 with 1 Axes>"
      ]
     },
     "metadata": {
      "needs_background": "light"
     },
     "output_type": "display_data"
    },
    {
     "data": {
      "image/png": "[encoded data removed]",
      "text/plain": [
       "<Figure size 432x288 with 1 Axes>"
      ]
     },
     "metadata": {
      "needs_background": "light"
     },
     "output_type": "display_data"
    }
   ],
   "source": [
    "School_Summary_plot.plot(kind=\"bar\", y=\"Total School Budget\", title=\"Total School Budget per school\")\n",
    "School_Summary_plot.plot(kind=\"bar\", y=\"Total Students\", title=\"Total Students per school\")\n",
    "School_Summary_plot.plot(kind=\"bar\", y=\"Per Student Budget\", title=\"Per Student Budget per school\", ylim=(500,700))"
   ]
  },
  {
   "cell_type": "code",
   "execution_count": 141,
   "metadata": {
    "scrolled": false
   },
   "outputs": [
    {
     "name": "stdout",
     "output_type": "stream",
     "text": [
      "-0.7948122202930927\n",
      "-0.8001178148393907\n"
     ]
    },
    {
     "data": {
      "image/png": "[encoded data removed]",
      "text/plain": [
       "<Figure size 432x288 with 1 Axes>"
      ]
     },
     "metadata": {
      "needs_background": "light"
     },
     "output_type": "display_data"
    },
    {
     "data": {
      "image/png": "[encoded data removed]",
      "text/plain": [
       "<Figure size 432x288 with 1 Axes>"
      ]
     },
     "metadata": {
      "needs_background": "light"
     },
     "output_type": "display_data"
    }
   ],
   "source": [
    "(slope, intercept, rvalue, pvalue, stderr) = linregress(School_Summary_plot[\"Per Student Budget\"],\n",
    "                                                        School_Summary_plot[\"Average Math Score\"])\n",
    "regress_values = slope*School_Summary_plot[\"Per Student Budget\"] + intercept\n",
    "\n",
    "School_Summary_plot.plot(kind=\"scatter\", x=\"Per Student Budget\", y=\"Average Math Score\",\n",
    "                         title=\"Average Math Score vs. Per Student Budget\")\n",
    "plt.plot(School_Summary_plot[\"Per Student Budget\"], regress_values, \"r-\")\n",
    "\n",
    "\n",
    "(slope, intercept, rvalue, pvalue, stderr) = linregress(School_Summary_plot[\"Per Student Budget\"],\n",
    "                                                        School_Summary_plot[\"Average Reading Score\"])\n",
    "regress_values = slope*School_Summary_plot[\"Per Student Budget\"] + intercept\n",
    "\n",
    "School_Summary_plot.plot(kind=\"scatter\", x=\"Per Student Budget\", y=\"Average Reading Score\",\n",
    "                         title=\"Average Reading Score vs. Per Student Budget\")\n",
    "plt.plot(School_Summary_plot[\"Per Student Budget\"], regress_values, \"r-\")\n",
    "print(rvalue)"
   ]
  },
  {
   "cell_type": "code",
   "execution_count": 129,
   "metadata": {},
   "outputs": [
    {
     "data": {
      "text/plain": [
       "<matplotlib.axes._subplots.AxesSubplot at 0x2051bf76808>"
      ]
     },
     "execution_count": 129,
     "metadata": {},
     "output_type": "execute_result"
    },
    {
     "data": {
      "image/png": "[encoded data removed]",
      "text/plain": [
       "<Figure size 432x288 with 1 Axes>"
      ]
     },
     "metadata": {
      "needs_background": "light"
     },
     "output_type": "display_data"
    },
    {
     "data": {
      "image/png": "[encoded data removed]",
      "text/plain": [
       "<Figure size 432x288 with 1 Axes>"
      ]
     },
     "metadata": {
      "needs_background": "light"
     },
     "output_type": "display_data"
    }
   ],
   "source": [
    "School_Summary_plot.plot(kind=\"scatter\", x=\"Total School Budget\", y=\"Average Math Score\",\n",
    "                         title=\"Average Math Score vs. Total School Budget\")\n",
    "School_Summary_plot.plot(kind=\"scatter\", x=\"Total School Budget\", y=\"Average Reading Score\",\n",
    "                         title=\"Average Reading Score vs. Total School Budget\")"
   ]
  },
  {
   "cell_type": "code",
   "execution_count": 132,
   "metadata": {},
   "outputs": [
    {
     "data": {
      "text/plain": [
       "<matplotlib.axes._subplots.AxesSubplot at 0x2051bf3c3c8>"
      ]
     },
     "execution_count": 132,
     "metadata": {},
     "output_type": "execute_result"
    },
    {
     "data": {
      "image/png": "[encoded data removed]",
      "text/plain": [
       "<Figure size 432x288 with 1 Axes>"
      ]
     },
     "metadata": {
      "needs_background": "light"
     },
     "output_type": "display_data"
    },
    {
     "data": {
      "image/png": "[encoded data removed]",
      "text/plain": [
       "<Figure size 432x288 with 1 Axes>"
      ]
     },
     "metadata": {
      "needs_background": "light"
     },
     "output_type": "display_data"
    }
   ],
   "source": [
    "School_Summary_plot.plot(kind=\"scatter\", x=\"Total Students\", y=\"Average Math Score\",\n",
    "                         title=\"Average Math Score vs. Total Students\")\n",
    "School_Summary_plot.plot(kind=\"scatter\", x=\"Total Students\", y=\"Average Reading Score\",\n",
    "                         title=\"Average Reading Score vs. Total Students\")"
   ]
  },
  {
   "cell_type": "code",
   "execution_count": 123,
   "metadata": {},
   "outputs": [
    {
     "data": {
      "text/plain": [
       "<matplotlib.axes._subplots.AxesSubplot at 0x20519fec388>"
      ]
     },
     "execution_count": 123,
     "metadata": {},
     "output_type": "execute_result"
    },
    {
     "data": {
      "image/png": "[encoded data removed]",
      "text/plain": [
       "<Figure size 432x288 with 1 Axes>"
      ]
     },
     "metadata": {
      "needs_background": "light"
     },
     "output_type": "display_data"
    }
   ],
   "source": [
    "School_Summary_plot.plot(kind=\"bar\", y=[\"Average Math Score\", \"Average Reading Score\"],\n",
    "                         title=\"Average Math and Reading Scores per school\", ylim=(55,100))"
   ]
  },
  {
   "cell_type": "code",
   "execution_count": 130,
   "metadata": {
    "scrolled": false
   },
   "outputs": [
    {
     "data": {
      "text/plain": [
       "<matplotlib.axes._subplots.AxesSubplot at 0x2051bf238c8>"
      ]
     },
     "execution_count": 130,
     "metadata": {},
     "output_type": "execute_result"
    },
    {
     "data": {
      "image/png": "[encoded data removed]",
      "text/plain": [
       "<Figure size 432x288 with 1 Axes>"
      ]
     },
     "metadata": {
      "needs_background": "light"
     },
     "output_type": "display_data"
    },
    {
     "data": {
      "image/png": "[encoded data removed]",
      "text/plain": [
       "<Figure size 432x288 with 1 Axes>"
      ]
     },
     "metadata": {
      "needs_background": "light"
     },
     "output_type": "display_data"
    }
   ],
   "source": [
    "School_Summary_plot.plot(kind=\"scatter\", x=\"Per Student Budget\", y=\"% Passing Math\",\n",
    "                         title=\"% Passing Math vs. Per Student Budget\")\n",
    "School_Summary_plot.plot(kind=\"scatter\", x=\"Per Student Budget\", y=\"% Passing Reading\",\n",
    "                         title=\"% Passing Reading vs. Per Student Budget\")"
   ]
  },
  {
   "cell_type": "code",
   "execution_count": 134,
   "metadata": {},
   "outputs": [
    {
     "data": {
      "text/plain": [
       "<matplotlib.axes._subplots.AxesSubplot at 0x2051c0fc048>"
      ]
     },
     "execution_count": 134,
     "metadata": {},
     "output_type": "execute_result"
    },
    {
     "data": {
      "image/png": "[encoded data removed]",
      "text/plain": [
       "<Figure size 432x288 with 1 Axes>"
      ]
     },
     "metadata": {
      "needs_background": "light"
     },
     "output_type": "display_data"
    },
    {
     "data": {
      "image/png": "[encoded data removed]",
      "text/plain": [
       "<Figure size 432x288 with 1 Axes>"
      ]
     },
     "metadata": {
      "needs_background": "light"
     },
     "output_type": "display_data"
    }
   ],
   "source": [
    "School_Summary_plot.plot(kind=\"scatter\", x=\"Total School Budget\", y=\"% Passing Math\",\n",
    "                         title=\"% Passing Math vs. Total School Budget\")\n",
    "School_Summary_plot.plot(kind=\"scatter\", x=\"Total School Budget\", y=\"% Passing Reading\",\n",
    "                         title=\"% Passing Reading vs. Total School Budget\")"
   ]
  },
  {
   "cell_type": "code",
   "execution_count": 133,
   "metadata": {},
   "outputs": [
    {
     "data": {
      "text/plain": [
       "<matplotlib.axes._subplots.AxesSubplot at 0x2051c0d7548>"
      ]
     },
     "execution_count": 133,
     "metadata": {},
     "output_type": "execute_result"
    },
    {
     "data": {
      "image/png": "[encoded data removed]",
      "text/plain": [
       "<Figure size 432x288 with 1 Axes>"
      ]
     },
     "metadata": {
      "needs_background": "light"
     },
     "output_type": "display_data"
    },
    {
     "data": {
      "image/png": "[encoded data removed]",
      "text/plain": [
       "<Figure size 432x288 with 1 Axes>"
      ]
     },
     "metadata": {
      "needs_background": "light"
     },
     "output_type": "display_data"
    }
   ],
   "source": [
    "School_Summary_plot.plot(kind=\"scatter\", x=\"Total Students\", y=\"% Passing Math\",\n",
    "                         title=\"% Passing Math vs. Total Students\")\n",
    "School_Summary_plot.plot(kind=\"scatter\", x=\"Total Students\", y=\"% Passing Reading\",\n",
    "                         title=\"% Passing Reading vs. Total Students\")"
   ]
  },
  {
   "cell_type": "code",
   "execution_count": 13,
   "metadata": {},
   "outputs": [],
   "source": [
    "# Calculate average math scores for grade 9\n",
    "# Make a copy of students_df\n",
    "students4_df = students_df.copy()\n",
    "\n",
    "# Reduce columns\n",
    "students4_df = students4_df[[\"grade\",\"school_name\", \"math_score\"]]\n",
    "\n",
    "# Rename columns\n",
    "students4_df.rename(columns={\"school_name\":\"School Name\"}, inplace=True)\n",
    "\n",
    "# Filter for only grade 9\n",
    "students4_df = students4_df.loc[students4_df[\"grade\"] == \"9th\",:]\n",
    "\n",
    "# Remove grade column\n",
    "del students4_df[\"grade\"]\n",
    "\n",
    "# Groupby School Name\n",
    "students4_df = students4_df.groupby([\"School Name\"]).mean()\n",
    "\n",
    "# Rename columns\n",
    "students4_df.rename(columns={\"math_score\": \"9th\"}, inplace=True)"
   ]
  },
  {
   "cell_type": "code",
   "execution_count": 14,
   "metadata": {},
   "outputs": [],
   "source": [
    "# Calculate average math scores for grade 10\n",
    "# Make a copy of students_df\n",
    "students5_df = students_df.copy()\n",
    "\n",
    "# Reduce columns\n",
    "students5_df = students5_df[[\"grade\",\"school_name\", \"math_score\"]]\n",
    "\n",
    "# Rename columns\n",
    "students5_df.rename(columns={\"school_name\":\"School Name\"}, inplace=True)\n",
    "\n",
    "# Filter for only grade 10\n",
    "students5_df = students5_df.loc[students5_df[\"grade\"] == \"10th\",:]\n",
    "\n",
    "# Remove grade column\n",
    "del students5_df[\"grade\"]\n",
    "\n",
    "# Groupby School Name\n",
    "students5_df = students5_df.groupby([\"School Name\"]).mean()\n",
    "\n",
    "# Rename columns\n",
    "students5_df.rename(columns={\"math_score\": \"10th\"}, inplace=True)\n",
    "\n",
    "# Merge average math scores for grade 9 and 10\n",
    "Math_Scores_by_Grade_df = pd.merge(students4_df, students5_df, on=\"School Name\")"
   ]
  },
  {
   "cell_type": "code",
   "execution_count": 15,
   "metadata": {},
   "outputs": [],
   "source": [
    "# Calculate average math scores for grade 11\n",
    "# Make a copy of students_df\n",
    "students6_df = students_df.copy()\n",
    "\n",
    "# Reduce columns\n",
    "students6_df = students6_df[[\"grade\",\"school_name\", \"math_score\"]]\n",
    "\n",
    "# Rename columns\n",
    "students6_df.rename(columns={\"school_name\":\"School Name\"}, inplace=True)\n",
    "\n",
    "# Filter for only grade 11\n",
    "students6_df = students6_df.loc[students6_df[\"grade\"] == \"11th\",:]\n",
    "\n",
    "# Remove grade column\n",
    "del students6_df[\"grade\"]\n",
    "\n",
    "# Groupby School Name\n",
    "students6_df = students6_df.groupby([\"School Name\"]).mean()\n",
    "\n",
    "# Rename Columns\n",
    "students6_df.rename(columns={\"math_score\": \"11th\"}, inplace=True)\n",
    "\n",
    "# Merge average math scores for grades 9 and 10 and 11\n",
    "Math_Scores_by_Grade_df = pd.merge(Math_Scores_by_Grade_df, students6_df, on=\"School Name\")"
   ]
  },
  {
   "cell_type": "code",
   "execution_count": 16,
   "metadata": {},
   "outputs": [
    {
     "data": {
      "text/html": [
       "<div>\n",
       "<style scoped>\n",
       "    .dataframe tbody tr th:only-of-type {\n",
       "        vertical-align: middle;\n",
       "    }\n",
       "\n",
       "    .dataframe tbody tr th {\n",
       "        vertical-align: top;\n",
       "    }\n",
       "\n",
       "    .dataframe thead th {\n",
       "        text-align: right;\n",
       "    }\n",
       "</style>\n",
       "<table border=\"1\" class=\"dataframe\">\n",
       "  <thead>\n",
       "    <tr style=\"text-align: right;\">\n",
       "      <th></th>\n",
       "      <th>9th</th>\n",
       "      <th>10th</th>\n",
       "      <th>11th</th>\n",
       "      <th>12th</th>\n",
       "    </tr>\n",
       "    <tr>\n",
       "      <th>School Name</th>\n",
       "      <th></th>\n",
       "      <th></th>\n",
       "      <th></th>\n",
       "      <th></th>\n",
       "    </tr>\n",
       "  </thead>\n",
       "  <tbody>\n",
       "    <tr>\n",
       "      <td>Bailey High School</td>\n",
       "      <td>77.083676</td>\n",
       "      <td>76.996772</td>\n",
       "      <td>77.515588</td>\n",
       "      <td>76.492218</td>\n",
       "    </tr>\n",
       "    <tr>\n",
       "      <td>Cabrera High School</td>\n",
       "      <td>83.094697</td>\n",
       "      <td>83.154506</td>\n",
       "      <td>82.765560</td>\n",
       "      <td>83.277487</td>\n",
       "    </tr>\n",
       "    <tr>\n",
       "      <td>Figueroa High School</td>\n",
       "      <td>76.403037</td>\n",
       "      <td>76.539974</td>\n",
       "      <td>76.884344</td>\n",
       "      <td>77.151369</td>\n",
       "    </tr>\n",
       "    <tr>\n",
       "      <td>Ford High School</td>\n",
       "      <td>77.361345</td>\n",
       "      <td>77.672316</td>\n",
       "      <td>76.918058</td>\n",
       "      <td>76.179963</td>\n",
       "    </tr>\n",
       "    <tr>\n",
       "      <td>Griffin High School</td>\n",
       "      <td>82.044010</td>\n",
       "      <td>84.229064</td>\n",
       "      <td>83.842105</td>\n",
       "      <td>83.356164</td>\n",
       "    </tr>\n",
       "    <tr>\n",
       "      <td>Hernandez High School</td>\n",
       "      <td>77.438495</td>\n",
       "      <td>77.337408</td>\n",
       "      <td>77.136029</td>\n",
       "      <td>77.186567</td>\n",
       "    </tr>\n",
       "    <tr>\n",
       "      <td>Holden High School</td>\n",
       "      <td>83.787402</td>\n",
       "      <td>83.429825</td>\n",
       "      <td>85.000000</td>\n",
       "      <td>82.855422</td>\n",
       "    </tr>\n",
       "    <tr>\n",
       "      <td>Huang High School</td>\n",
       "      <td>77.027251</td>\n",
       "      <td>75.908735</td>\n",
       "      <td>76.446602</td>\n",
       "      <td>77.225641</td>\n",
       "    </tr>\n",
       "    <tr>\n",
       "      <td>Johnson High School</td>\n",
       "      <td>77.187857</td>\n",
       "      <td>76.691117</td>\n",
       "      <td>77.491653</td>\n",
       "      <td>76.863248</td>\n",
       "    </tr>\n",
       "    <tr>\n",
       "      <td>Pena High School</td>\n",
       "      <td>83.625455</td>\n",
       "      <td>83.372000</td>\n",
       "      <td>84.328125</td>\n",
       "      <td>84.121547</td>\n",
       "    </tr>\n",
       "    <tr>\n",
       "      <td>Rodriguez High School</td>\n",
       "      <td>76.859966</td>\n",
       "      <td>76.612500</td>\n",
       "      <td>76.395626</td>\n",
       "      <td>77.690748</td>\n",
       "    </tr>\n",
       "    <tr>\n",
       "      <td>Shelton High School</td>\n",
       "      <td>83.420755</td>\n",
       "      <td>82.917411</td>\n",
       "      <td>83.383495</td>\n",
       "      <td>83.778976</td>\n",
       "    </tr>\n",
       "    <tr>\n",
       "      <td>Thomas High School</td>\n",
       "      <td>83.590022</td>\n",
       "      <td>83.087886</td>\n",
       "      <td>83.498795</td>\n",
       "      <td>83.497041</td>\n",
       "    </tr>\n",
       "    <tr>\n",
       "      <td>Wilson High School</td>\n",
       "      <td>83.085578</td>\n",
       "      <td>83.724422</td>\n",
       "      <td>83.195326</td>\n",
       "      <td>83.035794</td>\n",
       "    </tr>\n",
       "    <tr>\n",
       "      <td>Wright High School</td>\n",
       "      <td>83.264706</td>\n",
       "      <td>84.010288</td>\n",
       "      <td>83.836782</td>\n",
       "      <td>83.644986</td>\n",
       "    </tr>\n",
       "  </tbody>\n",
       "</table>\n",
       "</div>"
      ],
      "text/plain": [
       "                             9th       10th       11th       12th\n",
       "School Name                                                      \n",
       "Bailey High School     77.083676  76.996772  77.515588  76.492218\n",
       "Cabrera High School    83.094697  83.154506  82.765560  83.277487\n",
       "Figueroa High School   76.403037  76.539974  76.884344  77.151369\n",
       "Ford High School       77.361345  77.672316  76.918058  76.179963\n",
       "Griffin High School    82.044010  84.229064  83.842105  83.356164\n",
       "Hernandez High School  77.438495  77.337408  77.136029  77.186567\n",
       "Holden High School     83.787402  83.429825  85.000000  82.855422\n",
       "Huang High School      77.027251  75.908735  76.446602  77.225641\n",
       "Johnson High School    77.187857  76.691117  77.491653  76.863248\n",
       "Pena High School       83.625455  83.372000  84.328125  84.121547\n",
       "Rodriguez High School  76.859966  76.612500  76.395626  77.690748\n",
       "Shelton High School    83.420755  82.917411  83.383495  83.778976\n",
       "Thomas High School     83.590022  83.087886  83.498795  83.497041\n",
       "Wilson High School     83.085578  83.724422  83.195326  83.035794\n",
       "Wright High School     83.264706  84.010288  83.836782  83.644986"
      ]
     },
     "execution_count": 16,
     "metadata": {},
     "output_type": "execute_result"
    }
   ],
   "source": [
    "# Calculate average math scores for grade 12\n",
    "# Make a copy of students_df\n",
    "students7_df = students_df.copy()\n",
    "\n",
    "# Reduce columns\n",
    "students7_df = students7_df[[\"grade\",\"school_name\", \"math_score\"]]\n",
    "\n",
    "# Rename columns\n",
    "students7_df.rename(columns={\"school_name\":\"School Name\"}, inplace=True)\n",
    "\n",
    "# Filter for only grade 12\n",
    "students7_df = students7_df.loc[students7_df[\"grade\"] == \"12th\",:]\n",
    "\n",
    "# Remove grade column\n",
    "del students7_df[\"grade\"]\n",
    "\n",
    "# Groupby School Name\n",
    "students7_df = students7_df.groupby([\"School Name\"]).mean()\n",
    "\n",
    "# Rename Columns\n",
    "students7_df.rename(columns={\"math_score\": \"12th\"}, inplace=True)\n",
    "\n",
    "# Merge average math scores for grades 9, 10, and 11 and 12\n",
    "Math_Scores_by_Grade_df = pd.merge(Math_Scores_by_Grade_df, students7_df, on=\"School Name\")\n",
    "\n",
    "# List average math scores for grades 9, 10, 11, and 12\n",
    "Math_Scores_by_Grade_df"
   ]
  },
  {
   "cell_type": "code",
   "execution_count": 114,
   "metadata": {},
   "outputs": [
    {
     "data": {
      "text/plain": [
       "<matplotlib.axes._subplots.AxesSubplot at 0x20519de9508>"
      ]
     },
     "execution_count": 114,
     "metadata": {},
     "output_type": "execute_result"
    },
    {
     "data": {
      "image/png": "[encoded data removed]",
      "text/plain": [
       "<Figure size 432x288 with 1 Axes>"
      ]
     },
     "metadata": {
      "needs_background": "light"
     },
     "output_type": "display_data"
    }
   ],
   "source": [
    "Math_Scores_by_Grade_df.plot(kind=\"bar\", title=\"Average Math Scores per school\", ylim=(70, 100))"
   ]
  },
  {
   "cell_type": "code",
   "execution_count": 17,
   "metadata": {},
   "outputs": [],
   "source": [
    "# Calculate average reading scores for grade 9\n",
    "# Make a copy of students_df\n",
    "students8_df = students_df.copy()\n",
    "\n",
    "# Reduce columns\n",
    "students8_df = students8_df[[\"grade\", \"school_name\", \"reading_score\"]]\n",
    "\n",
    "#Rename columns\n",
    "students8_df.rename(columns={\"school_name\": \"School Name\"}, inplace=True)\n",
    "\n",
    "# Filter for only grade 9\n",
    "students8_df = students8_df.loc[students8_df[\"grade\"] == \"9th\",:]\n",
    "\n",
    "# Remove grade column\n",
    "del students8_df[\"grade\"]\n",
    "\n",
    "# Groupby School Name\n",
    "students8_df = students8_df.groupby([\"School Name\"]).mean()\n",
    "\n",
    "# Rename columns\n",
    "students8_df.rename(columns={\"reading_score\": \"9th\"}, inplace=True)"
   ]
  },
  {
   "cell_type": "code",
   "execution_count": 18,
   "metadata": {},
   "outputs": [],
   "source": [
    "# Calculate average reading scores for grade 10\n",
    "# Make a copy of students_df\n",
    "students9_df = students_df.copy()\n",
    "\n",
    "# Reduce columns\n",
    "students9_df = students9_df[[\"grade\", \"school_name\", \"reading_score\"]]\n",
    "\n",
    "# Rename columns\n",
    "students9_df.rename(columns={\"school_name\": \"School Name\"}, inplace=True)\n",
    "\n",
    "# Filter for only grade 10\n",
    "students9_df = students9_df.loc[students9_df[\"grade\"] == \"10th\",:]\n",
    "\n",
    "# Remove grade column\n",
    "del students9_df[\"grade\"]\n",
    "\n",
    "# Groupby School Name\n",
    "students9_df = students9_df.groupby([\"School Name\"]).mean()\n",
    "\n",
    "# Rename Columns\n",
    "students9_df.rename(columns={\"reading_score\": \"10th\"}, inplace=True)\n",
    "\n",
    "# Merge average reading scores for grade 9 and 10\n",
    "Reading_Scores_by_Grade_df = pd.merge(students8_df, students9_df, on=\"School Name\")"
   ]
  },
  {
   "cell_type": "code",
   "execution_count": 19,
   "metadata": {},
   "outputs": [],
   "source": [
    "# Calculate average reading score for grades 11\n",
    "# Make a copy of students_df\n",
    "students10_df = students_df.copy()\n",
    "\n",
    "# Reduce columns\n",
    "students10_df = students10_df[[\"grade\", \"school_name\", \"reading_score\"]]\n",
    "\n",
    "# Rename columns\n",
    "students10_df.rename(columns={\"school_name\": \"School Name\"}, inplace=True)\n",
    "\n",
    "# Filter for only grade 11\n",
    "students10_df = students10_df.loc[students10_df[\"grade\"] == \"11th\",:]\n",
    "\n",
    "# Remove grade column\n",
    "del students10_df[\"grade\"]\n",
    "\n",
    "# Groupby School Name\n",
    "students10_df = students10_df.groupby([\"School Name\"]).mean()\n",
    "\n",
    "# Rename columns\n",
    "students10_df.rename(columns={\"reading_score\": \"11th\"}, inplace=True)\n",
    "\n",
    "# Merge average reading scores for grades 9 and 10 and 11\n",
    "Reading_Scores_by_Grade_df = pd.merge(Reading_Scores_by_Grade_df, students10_df, on=\"School Name\")\n"
   ]
  },
  {
   "cell_type": "code",
   "execution_count": 20,
   "metadata": {},
   "outputs": [
    {
     "data": {
      "text/html": [
       "<div>\n",
       "<style scoped>\n",
       "    .dataframe tbody tr th:only-of-type {\n",
       "        vertical-align: middle;\n",
       "    }\n",
       "\n",
       "    .dataframe tbody tr th {\n",
       "        vertical-align: top;\n",
       "    }\n",
       "\n",
       "    .dataframe thead th {\n",
       "        text-align: right;\n",
       "    }\n",
       "</style>\n",
       "<table border=\"1\" class=\"dataframe\">\n",
       "  <thead>\n",
       "    <tr style=\"text-align: right;\">\n",
       "      <th></th>\n",
       "      <th>9th</th>\n",
       "      <th>10th</th>\n",
       "      <th>11th</th>\n",
       "      <th>12th</th>\n",
       "    </tr>\n",
       "    <tr>\n",
       "      <th>School Name</th>\n",
       "      <th></th>\n",
       "      <th></th>\n",
       "      <th></th>\n",
       "      <th></th>\n",
       "    </tr>\n",
       "  </thead>\n",
       "  <tbody>\n",
       "    <tr>\n",
       "      <td>Bailey High School</td>\n",
       "      <td>81.303155</td>\n",
       "      <td>80.907183</td>\n",
       "      <td>80.945643</td>\n",
       "      <td>80.912451</td>\n",
       "    </tr>\n",
       "    <tr>\n",
       "      <td>Cabrera High School</td>\n",
       "      <td>83.676136</td>\n",
       "      <td>84.253219</td>\n",
       "      <td>83.788382</td>\n",
       "      <td>84.287958</td>\n",
       "    </tr>\n",
       "    <tr>\n",
       "      <td>Figueroa High School</td>\n",
       "      <td>81.198598</td>\n",
       "      <td>81.408912</td>\n",
       "      <td>80.640339</td>\n",
       "      <td>81.384863</td>\n",
       "    </tr>\n",
       "    <tr>\n",
       "      <td>Ford High School</td>\n",
       "      <td>80.632653</td>\n",
       "      <td>81.262712</td>\n",
       "      <td>80.403642</td>\n",
       "      <td>80.662338</td>\n",
       "    </tr>\n",
       "    <tr>\n",
       "      <td>Griffin High School</td>\n",
       "      <td>83.369193</td>\n",
       "      <td>83.706897</td>\n",
       "      <td>84.288089</td>\n",
       "      <td>84.013699</td>\n",
       "    </tr>\n",
       "    <tr>\n",
       "      <td>Hernandez High School</td>\n",
       "      <td>80.866860</td>\n",
       "      <td>80.660147</td>\n",
       "      <td>81.396140</td>\n",
       "      <td>80.857143</td>\n",
       "    </tr>\n",
       "    <tr>\n",
       "      <td>Holden High School</td>\n",
       "      <td>83.677165</td>\n",
       "      <td>83.324561</td>\n",
       "      <td>83.815534</td>\n",
       "      <td>84.698795</td>\n",
       "    </tr>\n",
       "    <tr>\n",
       "      <td>Huang High School</td>\n",
       "      <td>81.290284</td>\n",
       "      <td>81.512386</td>\n",
       "      <td>81.417476</td>\n",
       "      <td>80.305983</td>\n",
       "    </tr>\n",
       "    <tr>\n",
       "      <td>Johnson High School</td>\n",
       "      <td>81.260714</td>\n",
       "      <td>80.773431</td>\n",
       "      <td>80.616027</td>\n",
       "      <td>81.227564</td>\n",
       "    </tr>\n",
       "    <tr>\n",
       "      <td>Pena High School</td>\n",
       "      <td>83.807273</td>\n",
       "      <td>83.612000</td>\n",
       "      <td>84.335938</td>\n",
       "      <td>84.591160</td>\n",
       "    </tr>\n",
       "    <tr>\n",
       "      <td>Rodriguez High School</td>\n",
       "      <td>80.993127</td>\n",
       "      <td>80.629808</td>\n",
       "      <td>80.864811</td>\n",
       "      <td>80.376426</td>\n",
       "    </tr>\n",
       "    <tr>\n",
       "      <td>Shelton High School</td>\n",
       "      <td>84.122642</td>\n",
       "      <td>83.441964</td>\n",
       "      <td>84.373786</td>\n",
       "      <td>82.781671</td>\n",
       "    </tr>\n",
       "    <tr>\n",
       "      <td>Thomas High School</td>\n",
       "      <td>83.728850</td>\n",
       "      <td>84.254157</td>\n",
       "      <td>83.585542</td>\n",
       "      <td>83.831361</td>\n",
       "    </tr>\n",
       "    <tr>\n",
       "      <td>Wilson High School</td>\n",
       "      <td>83.939778</td>\n",
       "      <td>84.021452</td>\n",
       "      <td>83.764608</td>\n",
       "      <td>84.317673</td>\n",
       "    </tr>\n",
       "    <tr>\n",
       "      <td>Wright High School</td>\n",
       "      <td>83.833333</td>\n",
       "      <td>83.812757</td>\n",
       "      <td>84.156322</td>\n",
       "      <td>84.073171</td>\n",
       "    </tr>\n",
       "  </tbody>\n",
       "</table>\n",
       "</div>"
      ],
      "text/plain": [
       "                             9th       10th       11th       12th\n",
       "School Name                                                      \n",
       "Bailey High School     81.303155  80.907183  80.945643  80.912451\n",
       "Cabrera High School    83.676136  84.253219  83.788382  84.287958\n",
       "Figueroa High School   81.198598  81.408912  80.640339  81.384863\n",
       "Ford High School       80.632653  81.262712  80.403642  80.662338\n",
       "Griffin High School    83.369193  83.706897  84.288089  84.013699\n",
       "Hernandez High School  80.866860  80.660147  81.396140  80.857143\n",
       "Holden High School     83.677165  83.324561  83.815534  84.698795\n",
       "Huang High School      81.290284  81.512386  81.417476  80.305983\n",
       "Johnson High School    81.260714  80.773431  80.616027  81.227564\n",
       "Pena High School       83.807273  83.612000  84.335938  84.591160\n",
       "Rodriguez High School  80.993127  80.629808  80.864811  80.376426\n",
       "Shelton High School    84.122642  83.441964  84.373786  82.781671\n",
       "Thomas High School     83.728850  84.254157  83.585542  83.831361\n",
       "Wilson High School     83.939778  84.021452  83.764608  84.317673\n",
       "Wright High School     83.833333  83.812757  84.156322  84.073171"
      ]
     },
     "execution_count": 20,
     "metadata": {},
     "output_type": "execute_result"
    }
   ],
   "source": [
    "# Calculate average reading scores for grade 12\n",
    "# Make a copy of students_df\n",
    "students11_df = students_df.copy()\n",
    "\n",
    "# Reduce columns\n",
    "students11_df = students11_df[[\"grade\", \"school_name\", \"reading_score\"]]\n",
    "\n",
    "# Rename columns\n",
    "students11_df.rename(columns={\"school_name\": \"School Name\"}, inplace=True)\n",
    "\n",
    "# Filter for only grade 12\n",
    "students11_df = students11_df.loc[students11_df[\"grade\"] == \"12th\",:]\n",
    "\n",
    "# Remve grade column\n",
    "del students11_df[\"grade\"]\n",
    "\n",
    "# Groupby School Name\n",
    "students11_df = students11_df.groupby([\"School Name\"]).mean()\n",
    "\n",
    "# Rename columns\n",
    "students11_df.rename(columns={\"reading_score\": \"12th\"}, inplace=True)\n",
    "\n",
    "# Merge average reading scores for grades 9, 10, and 11 and 12\n",
    "Reading_Scores_by_Grade_df = pd.merge(Reading_Scores_by_Grade_df, students11_df, on=\"School Name\")\n",
    "\n",
    "# List average reading scores for grades 9, 10, 11, 12\n",
    "Reading_Scores_by_Grade_df"
   ]
  },
  {
   "cell_type": "code",
   "execution_count": 115,
   "metadata": {},
   "outputs": [
    {
     "data": {
      "text/plain": [
       "<matplotlib.axes._subplots.AxesSubplot at 0x2051a2fc888>"
      ]
     },
     "execution_count": 115,
     "metadata": {},
     "output_type": "execute_result"
    },
    {
     "data": {
      "image/png": "[encoded data removed]",
      "text/plain": [
       "<Figure size 432x288 with 1 Axes>"
      ]
     },
     "metadata": {
      "needs_background": "light"
     },
     "output_type": "display_data"
    }
   ],
   "source": [
    "Reading_Scores_by_Grade_df.plot(kind=\"bar\", title=\"Average Reading Score per school\", ylim=(70,100))"
   ]
  },
  {
   "cell_type": "code",
   "execution_count": 38,
   "metadata": {
    "scrolled": true
   },
   "outputs": [
    {
     "data": {
      "text/html": [
       "<div>\n",
       "<style scoped>\n",
       "    .dataframe tbody tr th:only-of-type {\n",
       "        vertical-align: middle;\n",
       "    }\n",
       "\n",
       "    .dataframe tbody tr th {\n",
       "        vertical-align: top;\n",
       "    }\n",
       "\n",
       "    .dataframe thead th {\n",
       "        text-align: right;\n",
       "    }\n",
       "</style>\n",
       "<table border=\"1\" class=\"dataframe\">\n",
       "  <thead>\n",
       "    <tr style=\"text-align: right;\">\n",
       "      <th></th>\n",
       "      <th>Average Math Score</th>\n",
       "      <th>Average Reading Score</th>\n",
       "      <th>% Passing Math</th>\n",
       "      <th>% Passing Reading</th>\n",
       "      <th>Overall Passing Rate</th>\n",
       "    </tr>\n",
       "    <tr>\n",
       "      <th>School Spending</th>\n",
       "      <th></th>\n",
       "      <th></th>\n",
       "      <th></th>\n",
       "      <th></th>\n",
       "      <th></th>\n",
       "    </tr>\n",
       "  </thead>\n",
       "  <tbody>\n",
       "    <tr>\n",
       "      <td>low Spending</td>\n",
       "      <td>83.363065</td>\n",
       "      <td>83.964039</td>\n",
       "      <td>93.702889</td>\n",
       "      <td>96.686558</td>\n",
       "      <td>95.194724</td>\n",
       "    </tr>\n",
       "    <tr>\n",
       "      <td>mid-low Spending</td>\n",
       "      <td>83.529196</td>\n",
       "      <td>83.838414</td>\n",
       "      <td>94.124128</td>\n",
       "      <td>95.886889</td>\n",
       "      <td>95.005509</td>\n",
       "    </tr>\n",
       "    <tr>\n",
       "      <td>mid-high Spending</td>\n",
       "      <td>78.061635</td>\n",
       "      <td>81.434088</td>\n",
       "      <td>71.400428</td>\n",
       "      <td>83.614770</td>\n",
       "      <td>77.507599</td>\n",
       "    </tr>\n",
       "    <tr>\n",
       "      <td>high Spending</td>\n",
       "      <td>77.049297</td>\n",
       "      <td>81.005604</td>\n",
       "      <td>66.230813</td>\n",
       "      <td>81.109397</td>\n",
       "      <td>73.670105</td>\n",
       "    </tr>\n",
       "  </tbody>\n",
       "</table>\n",
       "</div>"
      ],
      "text/plain": [
       "                   Average Math Score  Average Reading Score  % Passing Math  \\\n",
       "School Spending                                                                \n",
       "low Spending                83.363065              83.964039       93.702889   \n",
       "mid-low Spending            83.529196              83.838414       94.124128   \n",
       "mid-high Spending           78.061635              81.434088       71.400428   \n",
       "high Spending               77.049297              81.005604       66.230813   \n",
       "\n",
       "                   % Passing Reading  Overall Passing Rate  \n",
       "School Spending                                             \n",
       "low Spending               96.686558             95.194724  \n",
       "mid-low Spending           95.886889             95.005509  \n",
       "mid-high Spending          83.614770             77.507599  \n",
       "high Spending              81.109397             73.670105  "
      ]
     },
     "execution_count": 38,
     "metadata": {},
     "output_type": "execute_result"
    }
   ],
   "source": [
    "# Set bins for spending amounts\n",
    "bins=[570, 594.9, 619.9, 644.9, 670]\n",
    "group_names = [\"low Spending\", \"mid-low Spending\",\n",
    "               \"mid-high Spending\", \"high Spending\"]\n",
    "\n",
    "# Make a copy of schools2_df\n",
    "schools3_df = schools2_df.copy()\n",
    "\n",
    "# Divide schools by Per Student Budget amount\n",
    "schools3_df[\"School Spending\"] = pd.cut(schools3_df[\"Per Student Budget\"], bins, labels=group_names,\n",
    "                                              include_lowest=True)\n",
    "\n",
    "# Make a copy of schools3_df\n",
    "total_students_df = schools3_df.copy()\n",
    "\n",
    "# Reduce columns\n",
    "total_students_df = total_students_df[[\"School Spending\", \"Total Students\"]]\n",
    "\n",
    "# Groupby School Spending\n",
    "total_students_df = total_students_df.groupby([\"School Spending\"])\n",
    "total_students_df = total_students_df.sum()\n",
    "\n",
    "# Make a copy of students_df\n",
    "students12_df = students_df.copy()\n",
    "\n",
    "# Rename columns\n",
    "students12_df.rename(columns={\"school_name\": \"School Name\"}, inplace=True)\n",
    "\n",
    "# Merge schools3_df and students12_df\n",
    "Scores_by_School_Spending_df = pd.merge(schools3_df, students12_df, on=\"School Name\")\n",
    "\n",
    "# Reduce columns\n",
    "Scores_by_School_Spending_df = Scores_by_School_Spending_df[[\"School Name\", \"School Spending\",\n",
    "                                                             \"reading_score\", \"math_score\"]]\n",
    "\n",
    "# Calculate percent passing math\n",
    "Passing_math_2 = Scores_by_School_Spending_df[\"School Spending\"][Scores_by_School_Spending_df[\"math_score\"] >= 70].value_counts().rename_axis(\"School Spending\").reset_index(name = \"Passingmath_b\")\n",
    "\n",
    "# Calculate percent passing reading\n",
    "Passing_reading_2 = Scores_by_School_Spending_df[\"School Spending\"][Scores_by_School_Spending_df[\"reading_score\"] >= 70].value_counts().rename_axis(\"School Spending\").reset_index(name = \"Passingreading_b\")\n",
    "\n",
    "# Groupby School Spending\n",
    "Scores_by_School_Spending_df = Scores_by_School_Spending_df.groupby([\"School Spending\"]).mean()\n",
    "\n",
    "# Rename columns\n",
    "Scores_by_School_Spending_df = Scores_by_School_Spending_df.rename(columns={\"reading_score\":\"Average Reading Score\",\n",
    "                                                                            \"math_score\":\"Average Math Score\"})\n",
    "\n",
    "# Merge total students and average reading and math scores\n",
    "Scores_by_School_Spending_df = pd.merge(total_students_df, Scores_by_School_Spending_df, on=\"School Spending\")\n",
    "\n",
    "# Merge total students, average reading and math scores and number of students passing math\n",
    "Scores_by_School_Spending_df = pd.merge(Scores_by_School_Spending_df, Passing_math_2, on=\"School Spending\")\n",
    "\n",
    "# Calculate the percent of students passing math\n",
    "Scores_by_School_Spending_df[\"% Passing Math\"] = (Scores_by_School_Spending_df[\"Passingmath_b\"] / Scores_by_School_Spending_df[\"Total Students\"]) * 100\n",
    "\n",
    "# Merge the total students, average reading and math scores, percent passing math and number of students passing reading\n",
    "Scores_by_School_Spending_df = pd.merge(Scores_by_School_Spending_df, Passing_reading_2, on=\"School Spending\")\n",
    "\n",
    "# Calculate the percent of students passing reading\n",
    "Scores_by_School_Spending_df[\"% Passing Reading\"] = (Scores_by_School_Spending_df[\"Passingreading_b\"] / Scores_by_School_Spending_df[\"Total Students\"]) * 100\n",
    "\n",
    "# Remove total students, number of students passing reading and number of students passing math columns\n",
    "Scores_by_School_Spending_df.drop([\"Total Students\", \"Passingmath_b\", \"Passingreading_b\"], axis=1, inplace=True)\n",
    "\n",
    "# Calculate average passing rate\n",
    "Scores_by_School_Spending_df[\"Overall Passing Rate\"] = (Scores_by_School_Spending_df[\"% Passing Math\"] + Scores_by_School_Spending_df[\"% Passing Reading\"]) / 2\n",
    "\n",
    "# Reorder columns\n",
    "Scores_by_School_Spending_df = Scores_by_School_Spending_df.reindex(columns=[\"School Spending\", \"Average Math Score\",\n",
    "                                                                             \"Average Reading Score\", \"% Passing Math\",\n",
    "                                                                             \"% Passing Reading\", \"Overall Passing Rate\"])\n",
    "\n",
    "# Set index to School Spending\n",
    "Scores_by_School_Spending_df = Scores_by_School_Spending_df.set_index(\"School Spending\")\n",
    "\n",
    "# List average math and reading scores, percent passing math and reading, and average passing rate by School Spending\n",
    "Scores_by_School_Spending_df"
   ]
  },
  {
   "cell_type": "code",
   "execution_count": 128,
   "metadata": {},
   "outputs": [
    {
     "data": {
      "text/plain": [
       "<matplotlib.axes._subplots.AxesSubplot at 0x2051be807c8>"
      ]
     },
     "execution_count": 128,
     "metadata": {},
     "output_type": "execute_result"
    },
    {
     "data": {
      "image/png": "[encoded data removed]",
      "text/plain": [
       "<Figure size 432x288 with 1 Axes>"
      ]
     },
     "metadata": {
      "needs_background": "light"
     },
     "output_type": "display_data"
    },
    {
     "data": {
      "image/png": "[encoded data removed]",
      "text/plain": [
       "<Figure size 432x288 with 1 Axes>"
      ]
     },
     "metadata": {
      "needs_background": "light"
     },
     "output_type": "display_data"
    }
   ],
   "source": [
    "Scores_by_School_Spending_df.plot(kind=\"bar\", y=[\"Average Math Score\", \"Average Reading Score\"],\n",
    "                                  title=\"Average Math and Reading Scores per spending bracket\", ylim=(55,100))\n",
    "Scores_by_School_Spending_df.plot(kind=\"bar\", y=[\"% Passing Math\", \"% Passing Reading\"],\n",
    "                                  title=\"% Passing Math and Reading per spending bracket\", ylim=(55,100))"
   ]
  },
  {
   "cell_type": "code",
   "execution_count": 37,
   "metadata": {},
   "outputs": [
    {
     "data": {
      "text/html": [
       "<div>\n",
       "<style scoped>\n",
       "    .dataframe tbody tr th:only-of-type {\n",
       "        vertical-align: middle;\n",
       "    }\n",
       "\n",
       "    .dataframe tbody tr th {\n",
       "        vertical-align: top;\n",
       "    }\n",
       "\n",
       "    .dataframe thead th {\n",
       "        text-align: right;\n",
       "    }\n",
       "</style>\n",
       "<table border=\"1\" class=\"dataframe\">\n",
       "  <thead>\n",
       "    <tr style=\"text-align: right;\">\n",
       "      <th></th>\n",
       "      <th>Average Math Score</th>\n",
       "      <th>Average Reading Score</th>\n",
       "      <th>% Passing Math</th>\n",
       "      <th>% Passing Reading</th>\n",
       "      <th>Overall Passing Rate</th>\n",
       "    </tr>\n",
       "    <tr>\n",
       "      <th>School Size</th>\n",
       "      <th></th>\n",
       "      <th></th>\n",
       "      <th></th>\n",
       "      <th></th>\n",
       "      <th></th>\n",
       "    </tr>\n",
       "  </thead>\n",
       "  <tbody>\n",
       "    <tr>\n",
       "      <td>Small</td>\n",
       "      <td>83.436586</td>\n",
       "      <td>83.882857</td>\n",
       "      <td>93.663606</td>\n",
       "      <td>96.670366</td>\n",
       "      <td>95.166986</td>\n",
       "    </tr>\n",
       "    <tr>\n",
       "      <td>Medium</td>\n",
       "      <td>78.164034</td>\n",
       "      <td>81.654758</td>\n",
       "      <td>72.336517</td>\n",
       "      <td>83.844600</td>\n",
       "      <td>78.090558</td>\n",
       "    </tr>\n",
       "    <tr>\n",
       "      <td>Large</td>\n",
       "      <td>77.070764</td>\n",
       "      <td>80.928365</td>\n",
       "      <td>66.468891</td>\n",
       "      <td>81.106091</td>\n",
       "      <td>73.787491</td>\n",
       "    </tr>\n",
       "  </tbody>\n",
       "</table>\n",
       "</div>"
      ],
      "text/plain": [
       "             Average Math Score  Average Reading Score  % Passing Math  \\\n",
       "School Size                                                              \n",
       "Small                 83.436586              83.882857       93.663606   \n",
       "Medium                78.164034              81.654758       72.336517   \n",
       "Large                 77.070764              80.928365       66.468891   \n",
       "\n",
       "             % Passing Reading  Overall Passing Rate  \n",
       "School Size                                           \n",
       "Small                96.670366             95.166986  \n",
       "Medium               83.844600             78.090558  \n",
       "Large                81.106091             73.787491  "
      ]
     },
     "execution_count": 37,
     "metadata": {},
     "output_type": "execute_result"
    }
   ],
   "source": [
    "# Set bins for number of students\n",
    "bins_2 = [420, 1939.9, 3459.9, 4980]\n",
    "group_names_2 = [\"Small\", \"Medium\", \"Large\"]\n",
    "\n",
    "# Make a copy of schools2_df\n",
    "schools4_df = schools2_df.copy()\n",
    "\n",
    "# Divide schools by number of total students\n",
    "schools4_df[\"School Size\"] = pd.cut(schools4_df[\"Total Students\"], bins_2, labels=group_names_2,\n",
    "                                    include_lowest=True)\n",
    "\n",
    "# Make a copy of schools4_df\n",
    "total_students_2_df = schools4_df.copy()\n",
    "\n",
    "# Reduce columns\n",
    "total_students_2_df = total_students_2_df[[\"Total Students\", \"School Size\"]]\n",
    "\n",
    "# Groupby School Size\n",
    "total_students_2_df = total_students_2_df.groupby([\"School Size\"])\n",
    "total_students_2_df = total_students_2_df.sum()\n",
    "\n",
    "# Make a copy of students_df\n",
    "students13_df = students_df.copy()\n",
    "\n",
    "# Rename Columns\n",
    "students13_df.rename(columns={\"school_name\": \"School Name\"}, inplace=True)\n",
    "\n",
    "# Merge schools4_df and students13_df\n",
    "Scores_by_School_Size_df = pd.merge(schools4_df, students13_df, on=\"School Name\")\n",
    "\n",
    "# Reduce columns\n",
    "Scores_by_School_Size_df = Scores_by_School_Size_df[[\"School Name\", \"School Size\",\n",
    "                                                     \"reading_score\", \"math_score\"]]\n",
    "\n",
    "# Calculate the number of students passing math\n",
    "Passing_math_3 = Scores_by_School_Size_df[\"School Size\"][Scores_by_School_Size_df[\"math_score\"] >= 70].value_counts().rename_axis(\"School Size\").reset_index(name=\"Passingmath_c\")\n",
    "\n",
    "# Calculate the number of students passing reading\n",
    "Passing_reading_3 = Scores_by_School_Size_df[\"School Size\"][Scores_by_School_Size_df[\"reading_score\"] >= 70].value_counts().rename_axis(\"School Size\").reset_index(name=\"Passingreading_c\")\n",
    "\n",
    "# Groupby School Size\n",
    "Scores_by_School_Size_df = Scores_by_School_Size_df.groupby([\"School Size\"]).mean()\n",
    "\n",
    "# Rename columns\n",
    "Scores_by_School_Size_df = Scores_by_School_Size_df.rename(columns={\"reading_score\": \"Average Reading Score\",\n",
    "                                                                    \"math_score\": \"Average Math Score\"})\n",
    "\n",
    "# Merge total students and average reading and math scores\n",
    "Scores_by_School_Size_df = pd.merge(total_students_2_df, Scores_by_School_Size_df, on=\"School Size\")\n",
    "\n",
    "# Merge total students, average reading and math scores and number of students passing math\n",
    "Scores_by_School_Size_df = pd.merge(Scores_by_School_Size_df, Passing_math_3, on=\"School Size\")\n",
    "\n",
    "# Calculate the percent of students passing math\n",
    "Scores_by_School_Size_df[\"% Passing Math\"] = (Scores_by_School_Size_df[\"Passingmath_c\"] / Scores_by_School_Size_df[\"Total Students\"]) * 100\n",
    "\n",
    "# Merge total students, average reading and math scores, number of students and percent passing math and number of students passing reading\n",
    "Scores_by_School_Size_df = pd.merge(Scores_by_School_Size_df, Passing_reading_3, on=\"School Size\")\n",
    "\n",
    "# Calculate the percent of students passing reading\n",
    "Scores_by_School_Size_df[\"% Passing Reading\"] = (Scores_by_School_Size_df[\"Passingreading_c\"] / Scores_by_School_Size_df[\"Total Students\"]) * 100\n",
    "\n",
    "# Remove total students, number of students passing math an number of students passing reading columns\n",
    "Scores_by_School_Size_df.drop([\"Total Students\", \"Passingmath_c\", \"Passingreading_c\"], axis=1, inplace=True)\n",
    "\n",
    "# Calculate average passing rate\n",
    "Scores_by_School_Size_df[\"Overall Passing Rate\"] = (Scores_by_School_Size_df[\"% Passing Math\"] + Scores_by_School_Size_df[\"% Passing Reading\"]) / 2\n",
    "\n",
    "# Reorder columns\n",
    "Scores_by_School_Size_df = Scores_by_School_Size_df.reindex(columns=[\"School Size\", \"Average Math Score\",\n",
    "                                                                     \"Average Reading Score\", \"% Passing Math\",\n",
    "                                                                     \"% Passing Reading\", \"Overall Passing Rate\"])\n",
    "\n",
    "# Set index to School Size\n",
    "Scores_by_School_Size_df = Scores_by_School_Size_df.set_index(\"School Size\")\n",
    "\n",
    "# List average reading and math scores, percent passing math and reading and average passing rate by School Size\n",
    "Scores_by_School_Size_df"
   ]
  }
 ],
 "metadata": {
  "kernelspec": {
   "display_name": "Python 3",
   "language": "python",
   "name": "python3"
  },
  "language_info": {
   "codemirror_mode": {
    "name": "ipython",
    "version": 3
   },
   "file_extension": ".py",
   "mimetype": "text/x-python",
   "name": "python",
   "nbconvert_exporter": "python",
   "pygments_lexer": "ipython3",
   "version": "3.7.4"
  }
 },
 "nbformat": 4,
 "nbformat_minor": 2
}
